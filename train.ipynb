{
 "cells": [
  {
   "cell_type": "markdown",
   "metadata": {},
   "source": [
    "# Carbon Emission Prediction Model"
   ]
  },
  {
   "cell_type": "code",
   "execution_count": 90,
   "metadata": {},
   "outputs": [],
   "source": [
    "from datetime import date\n",
    "import torch # pip install torch\n",
    "import torch.optim as optim\n",
    "import torch.nn as nn\n",
    "import numpy as np\n",
    "import os\n",
    "from ipynb.fs.full.train_benchmark import process_data; # pip install ipynb"
   ]
  },
  {
   "cell_type": "markdown",
   "metadata": {},
   "source": [
    "## Dataset load and preprocess"
   ]
  },
  {
   "cell_type": "code",
   "execution_count": 91,
   "metadata": {},
   "outputs": [],
   "source": [
    "# Set dataset locations\n",
    "selected_output_variable = \"OZONE\"\n",
    "data_file = \"01_Data/02_Imagery/data_and_imagery_test.pkl\""
   ]
  },
  {
   "cell_type": "code",
   "execution_count": 92,
   "metadata": {},
   "outputs": [],
   "source": [
    "X, y, res, num_channels, m = process_data(data_file, selected_output_variable) # from benchmark code\n",
    "# reshape and convert datatype\n",
    "X = torch.from_numpy(X.T).to(torch.float)\n",
    "y = torch.from_numpy(y.T).to(torch.float)\n",
    "\n",
    "# split dataset\n",
    "percent_train = 0.80\n",
    "num_train = int(percent_train * m)\n",
    "num_test = m - num_train\n",
    "\n",
    "# split dataset\n",
    "X_train, X_test = torch.utils.data.random_split(X, [num_train, num_test])\n",
    "y_train, y_test = torch.utils.data.random_split(y, [num_train, num_test])\n",
    "\n",
    "# convert from Subset to Tensor type\n",
    "X_train, X_test = X_train.dataset[X_train.indices], X_test.dataset[X_test.indices]\n",
    "y_train, y_test = y_train.dataset[y_train.indices], y_test.dataset[y_test.indices]"
   ]
  },
  {
   "cell_type": "markdown",
   "metadata": {},
   "source": [
    "## Define model"
   ]
  },
  {
   "cell_type": "code",
   "execution_count": 93,
   "metadata": {},
   "outputs": [],
   "source": [
    "class Net(nn.Module):\n",
    "    \"\"\"\n",
    "    Define the neural network: 1 hidden layer with ReLU activation\n",
    "    \"\"\"\n",
    "    def __init__(self, res, num_channels, m):\n",
    "        \"\"\"\n",
    "        Define the network layers\n",
    "        \"\"\"\n",
    "        super(Net,self).__init__()\n",
    "        self.layer1 = nn.Linear(res*res*num_channels, m) # computes W^T X + b\n",
    "        \n",
    "    def forward(self, x):\n",
    "        \"\"\"\n",
    "        Define forward pass\n",
    "        \"\"\"\n",
    "        x = torch.nn.functional.relu(self.layer1(x)) # ReLU activation\n",
    "        return x"
   ]
  },
  {
   "cell_type": "markdown",
   "metadata": {},
   "source": [
    "## Train model"
   ]
  },
  {
   "cell_type": "code",
   "execution_count": 111,
   "metadata": {},
   "outputs": [],
   "source": [
    "def train(x_train, y_train, save=False, model_tag=''):\n",
    "    \"\"\"\n",
    "    Train model on training data. If save=True, trained model is saved in ./03_Trained_Models/NN/model_date_<model_tag>.pt\n",
    "    Input:\n",
    "        x data and labels\n",
    "    Output:\n",
    "        trained model\n",
    "    \"\"\"\n",
    "    print('Training...')\n",
    "    optimizer.zero_grad() # clear gradients\n",
    "    for epoch in range(10):\n",
    "        output = net(x_train)\n",
    "        loss = criterion(output, y_train)\n",
    "        print('\\tloss at epoch %i = %f' %(epoch, loss))\n",
    "        loss.backward()\n",
    "        optimizer.step()\n",
    "\n",
    "    # save trained model\n",
    "    if (save):\n",
    "        d = date.today()\n",
    "        path = os.path.join('03_Trained_Models', 'NN', 'model_%s_%s.pt' %(d, model_tag))\n",
    "        torch.save(net.state_dict(), path)\n",
    "    return net"
   ]
  },
  {
   "cell_type": "markdown",
   "metadata": {},
   "source": [
    "## Main"
   ]
  },
  {
   "cell_type": "code",
   "execution_count": 116,
   "metadata": {},
   "outputs": [
    {
     "name": "stdout",
     "output_type": "stream",
     "text": [
      "Training...\n",
      "\tloss at epoch 0 = 760.013367\n",
      "\tloss at epoch 1 = 4379.063477\n",
      "\tloss at epoch 2 = 761.697632\n",
      "\tloss at epoch 3 = 761.697632\n",
      "\tloss at epoch 4 = 761.697632\n",
      "\tloss at epoch 5 = 761.697632\n",
      "\tloss at epoch 6 = 761.697632\n",
      "\tloss at epoch 7 = 761.697632\n",
      "\tloss at epoch 8 = 761.697632\n",
      "\tloss at epoch 9 = 761.697632\n",
      "Testing...\n",
      "\tTest loss =  760.7791137695312\n"
     ]
    }
   ],
   "source": [
    "# initialize network\n",
    "net = Net(res, num_channels, m)\n",
    "L = len(list(net.parameters())) # number of layers\n",
    "# print(net)\n",
    "\n",
    "# initialize loss function and optimizer\n",
    "criterion = nn.MSELoss() # for regression\n",
    "optimizer = optim.SGD(net.parameters(), lr=0.05)\n",
    "\n",
    "# train model and save to ./03_Trained_Models/NN/model_date_<model_tag>.pt\n",
    "model_tag = '1_hidden_relu'\n",
    "train(X, y, True, model_tag)\n",
    "\n",
    "# test model\n",
    "print('Testing...')\n",
    "output = net(X_test)\n",
    "loss = criterion(output, y_test).item()\n",
    "print('\\tTest loss = ', loss)"
   ]
  }
 ],
 "metadata": {
  "kernelspec": {
   "display_name": "Python 3",
   "language": "python",
   "name": "python3"
  },
  "language_info": {
   "codemirror_mode": {
    "name": "ipython",
    "version": 3
   },
   "file_extension": ".py",
   "mimetype": "text/x-python",
   "name": "python",
   "nbconvert_exporter": "python",
   "pygments_lexer": "ipython3",
   "version": "3.8.3"
  }
 },
 "nbformat": 4,
 "nbformat_minor": 4
}
