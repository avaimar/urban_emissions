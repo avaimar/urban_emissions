{
 "cells": [
  {
   "cell_type": "markdown",
   "metadata": {},
   "source": [
    "# Carbon Emission Prediction Model"
   ]
  },
  {
   "cell_type": "code",
   "execution_count": 3,
   "metadata": {},
   "outputs": [],
   "source": [
    "from datetime import date\n",
    "import time\n",
    "import torch # pip install torch\n",
    "import torch.optim as optim\n",
    "import torch.nn as nn\n",
    "import numpy as np\n",
    "import os\n",
    "from ipynb.fs.defs.train_benchmark import process_data; # pip install ipynb\n",
    "import matplotlib.pyplot as plt\n",
    "%matplotlib inline"
   ]
  },
  {
   "cell_type": "markdown",
   "metadata": {},
   "source": [
    "## Dataset load and preprocess"
   ]
  },
  {
   "cell_type": "code",
   "execution_count": 5,
   "metadata": {
    "pycharm": {
     "name": "#%%\n"
    }
   },
   "outputs": [],
   "source": [
    "# Set dataset locations\n",
    "selected_output_variable = \"NO2\"\n",
    "data_file = \"01_Data/02_Imagery/data_and_imagery_test.pkl\""
   ]
  },
  {
   "cell_type": "code",
   "execution_count": 6,
   "metadata": {},
   "outputs": [
    {
     "ename": "ValueError",
     "evalue": "unsupported pickle protocol: 5",
     "output_type": "error",
     "traceback": [
      "\u001b[1;31m---------------------------------------------------------------------------\u001b[0m",
      "\u001b[1;31mValueError\u001b[0m                                Traceback (most recent call last)",
      "\u001b[1;32m<ipython-input-6-5f83c8cce0fb>\u001b[0m in \u001b[0;36m<module>\u001b[1;34m\u001b[0m\n\u001b[1;32m----> 1\u001b[1;33m \u001b[0mX\u001b[0m\u001b[1;33m,\u001b[0m \u001b[0my\u001b[0m\u001b[1;33m,\u001b[0m \u001b[0mres\u001b[0m\u001b[1;33m,\u001b[0m \u001b[0mnum_channels\u001b[0m\u001b[1;33m,\u001b[0m \u001b[0mm\u001b[0m \u001b[1;33m=\u001b[0m \u001b[0mprocess_data\u001b[0m\u001b[1;33m(\u001b[0m\u001b[0mdata_file\u001b[0m\u001b[1;33m,\u001b[0m \u001b[0mselected_output_variable\u001b[0m\u001b[1;33m)\u001b[0m \u001b[1;31m# from benchmark code\u001b[0m\u001b[1;33m\u001b[0m\u001b[1;33m\u001b[0m\u001b[0m\n\u001b[0m\u001b[0;32m      2\u001b[0m \u001b[1;31m# reshape and convert datatype\u001b[0m\u001b[1;33m\u001b[0m\u001b[1;33m\u001b[0m\u001b[1;33m\u001b[0m\u001b[0m\n\u001b[0;32m      3\u001b[0m \u001b[0mX\u001b[0m \u001b[1;33m=\u001b[0m \u001b[0mtorch\u001b[0m\u001b[1;33m.\u001b[0m\u001b[0mfrom_numpy\u001b[0m\u001b[1;33m(\u001b[0m\u001b[0mX\u001b[0m\u001b[1;33m.\u001b[0m\u001b[0mT\u001b[0m\u001b[1;33m)\u001b[0m\u001b[1;33m.\u001b[0m\u001b[0mto\u001b[0m\u001b[1;33m(\u001b[0m\u001b[0mtorch\u001b[0m\u001b[1;33m.\u001b[0m\u001b[0mfloat\u001b[0m\u001b[1;33m)\u001b[0m\u001b[1;33m\u001b[0m\u001b[1;33m\u001b[0m\u001b[0m\n\u001b[0;32m      4\u001b[0m \u001b[0my\u001b[0m \u001b[1;33m=\u001b[0m \u001b[0mtorch\u001b[0m\u001b[1;33m.\u001b[0m\u001b[0mfrom_numpy\u001b[0m\u001b[1;33m(\u001b[0m\u001b[0my\u001b[0m\u001b[1;33m.\u001b[0m\u001b[0mT\u001b[0m\u001b[1;33m)\u001b[0m\u001b[1;33m.\u001b[0m\u001b[0mto\u001b[0m\u001b[1;33m(\u001b[0m\u001b[0mtorch\u001b[0m\u001b[1;33m.\u001b[0m\u001b[0mfloat\u001b[0m\u001b[1;33m)\u001b[0m\u001b[1;33m\u001b[0m\u001b[1;33m\u001b[0m\u001b[0m\n\u001b[0;32m      5\u001b[0m \u001b[1;33m\u001b[0m\u001b[0m\n",
      "\u001b[1;32m~\\Documents\\Stanford\\Courses\\2Q\\CS-230\\Project\\urban_emissions\\train_benchmark.ipynb\u001b[0m in \u001b[0;36mprocess_data\u001b[1;34m(data_file, selected_output_variable)\u001b[0m\n\u001b[0;32m     32\u001b[0m   },\n\u001b[0;32m     33\u001b[0m   {\n\u001b[1;32m---> 34\u001b[1;33m    \u001b[1;34m\"cell_type\"\u001b[0m\u001b[1;33m:\u001b[0m \u001b[1;34m\"code\"\u001b[0m\u001b[1;33m,\u001b[0m\u001b[1;33m\u001b[0m\u001b[1;33m\u001b[0m\u001b[0m\n\u001b[0m\u001b[0;32m     35\u001b[0m    \u001b[1;34m\"execution_count\"\u001b[0m\u001b[1;33m:\u001b[0m \u001b[1;36m2\u001b[0m\u001b[1;33m,\u001b[0m\u001b[1;33m\u001b[0m\u001b[1;33m\u001b[0m\u001b[0m\n\u001b[0;32m     36\u001b[0m    \u001b[1;34m\"metadata\"\u001b[0m\u001b[1;33m:\u001b[0m \u001b[1;33m{\u001b[0m\u001b[1;33m}\u001b[0m\u001b[1;33m,\u001b[0m\u001b[1;33m\u001b[0m\u001b[1;33m\u001b[0m\u001b[0m\n",
      "\u001b[1;31mValueError\u001b[0m: unsupported pickle protocol: 5"
     ]
    }
   ],
   "source": [
    "X, y, res, num_channels, m = process_data(data_file, selected_output_variable) # from benchmark code\n",
    "# reshape and convert datatype\n",
    "X = torch.from_numpy(X.T).to(torch.float)\n",
    "y = torch.from_numpy(y.T).to(torch.float)\n",
    "\n",
    "# split dataset\n",
    "percent_train = 0.80\n",
    "num_train = int(percent_train * m)\n",
    "num_test = m - num_train\n",
    "print('num training samples: ', num_train)\n",
    "print('num testing samples: ', num_test)\n",
    "\n",
    "X_train, X_test = torch.utils.data.random_split(X, [num_train, num_test])\n",
    "y_train, y_test = torch.utils.data.random_split(y, [num_train, num_test])\n",
    "\n",
    "# convert from Subset to Tensor type\n",
    "X_train, X_test = X_train.dataset[X_train.indices], X_test.dataset[X_test.indices]\n",
    "y_train, y_test = y_train.dataset[y_train.indices], y_test.dataset[y_test.indices]"
   ]
  },
  {
   "cell_type": "markdown",
   "metadata": {},
   "source": [
    "## Define model"
   ]
  },
  {
   "cell_type": "code",
   "execution_count": 22,
   "metadata": {},
   "outputs": [],
   "source": [
    "class Net(nn.Module):\n",
    "    \"\"\"\n",
    "    Define the neural network: 1 hidden layer with ReLU activation\n",
    "    \"\"\"\n",
    "    def __init__(self, res, num_channels, m):\n",
    "        \"\"\"\n",
    "        Define the network layers\n",
    "        \"\"\"\n",
    "        super(Net,self).__init__()\n",
    "        self.layer1 = nn.Linear(res*res*num_channels, m) # computes W^T X + b\n",
    "        \n",
    "    def forward(self, x):\n",
    "        \"\"\"\n",
    "        Define forward pass\n",
    "        \"\"\"\n",
    "        x = torch.nn.functional.relu(self.layer1(x)) # ReLU activation\n",
    "        return x"
   ]
  },
  {
   "cell_type": "markdown",
   "metadata": {},
   "source": [
    "## Train model"
   ]
  },
  {
   "cell_type": "code",
   "execution_count": null,
   "metadata": {},
   "outputs": [],
   "source": [
    "def plot_learning(train_loss, test_loss):\n",
    "    plt.plot(train_loss)\n",
    "    plt.plot(test_loss)\n",
    "    plt.legend(['Train loss', 'Test loss'])\n",
    "    plt.show()\n",
    "    plt.clf()"
   ]
  },
  {
   "cell_type": "code",
   "execution_count": 23,
   "metadata": {
    "pycharm": {
     "name": "#%%\n"
    }
   },
   "outputs": [],
   "source": [
    "def train(x_train, y_train, x_test, y_test, num_epochs, save=False, model_tag=''):\n",
    "    \"\"\"\n",
    "    Train model on training data. If save=True, trained model is saved in ./03_Trained_Models/NN/model_date_<model_tag>.pt\n",
    "    Input:\n",
    "        x data and labels\n",
    "    Output:\n",
    "        trained model\n",
    "    \"\"\"\n",
    "    print('Training...')\n",
    "    t0 = time.time()\n",
    "    train_losses = []\n",
    "    test_losses = []\n",
    "    optimizer.zero_grad() # clear gradients\n",
    "    for epoch in range(num_epochs):\n",
    "        output = net(x_train)\n",
    "        loss = criterion(output, y_train)\n",
    "        if (epoch%10 == 0): # save every 10th loss\n",
    "            # Train losses\n",
    "            train_losses.append(loss)\n",
    "            print('\\tloss at epoch %i = %f' %(epoch, loss))\n",
    "            # Track test losses\n",
    "            test_output = net(x_test)\n",
    "            test_loss = criterion(test_output, y_test).item()\n",
    "            test_losses.append(test_loss)\n",
    "            print('\\ttest loss at epoch %i = %f\\n' %(epoch, test_loss))\n",
    "        loss.backward()\n",
    "        optimizer.step()\n",
    "\n",
    "    # Plot training and test loss\n",
    "    plot_learning(train_losses, test_losses)\n",
    "    \n",
    "    # save trained model and training details\n",
    "    if (save):\n",
    "        train_date = date.today()\n",
    "        folder_path = os.path.join('03_Trained_Models', 'NN', 'model_%s_%s' %(train_date, model_tag))\n",
    "        if (not os.path.exists(folder_path)):\n",
    "            os.mkdir(folder_path)\n",
    "        \n",
    "        # save trained model\n",
    "        path = os.path.join(folder_path, 'model_%s_%s.pt' %(train_date, model_tag))\n",
    "        torch.save(net.state_dict(), path)\n",
    "        \n",
    "        # save training details\n",
    "        path = os.path.join(folder_path, 'model_%s_%s_training.txt' %(train_date, model_tag))\n",
    "        with open(path, 'w') as f:\n",
    "            f.write(\"Size of x_train: %s\" %(str(x_train.shape)))\n",
    "            f.write(\"\\nSize of y_train: %s\\n\" %(str(y_train.shape)))\n",
    "            f.write(\"\\n Train loss\")\n",
    "            for i, loss in enumerate(train_losses):\n",
    "                f.write(\"\\nLoss at epoch %i: %f\" %(i*10, loss))\n",
    "            f.write(\"\\n Test loss\")\n",
    "            for i, loss in enumerate(test_losses):\n",
    "                f.write(\"\\nTest Loss at epoch %i: %f\" %(i*10, loss))\n",
    "            f.write(\"\\n\\nTotal train time: %fs\" %(time.time() - t0))\n",
    "        \n",
    "    return net"
   ]
  },
  {
   "cell_type": "markdown",
   "metadata": {
    "pycharm": {
     "name": "#%% md\n"
    }
   },
   "source": [
    "## Define hyperparameters"
   ]
  },
  {
   "cell_type": "code",
   "execution_count": 24,
   "metadata": {},
   "outputs": [],
   "source": [
    "num_epochs = 100 # number iterations\n",
    "\n",
    "# Varying learning rates\n",
    "alphas = [0.0001, 0.0005, 0.001, 0.01, 0.05, 0.1]\n",
    "\n",
    "# Varying number of layers\n",
    "#Ls = [1, 5, 10, 20, 50, 75]\n",
    "\n",
    "# Varying optimizers\n",
    "optimizers = ['SGD', 'Adam']\n",
    "\n",
    "# Number of iterations \n",
    "num_epochs_ = [100, 250, 500, 1000] "
   ]
  },
  {
   "cell_type": "markdown",
   "metadata": {},
   "source": [
    "## Main"
   ]
  },
  {
   "cell_type": "code",
   "execution_count": null,
   "metadata": {
    "pycharm": {
     "name": "#%%\n"
    }
   },
   "outputs": [],
   "source": [
    "# Initialize network\n",
    "net = Net(res, num_channels, m)\n",
    "L = len(list(net.parameters())) # number of layers\n",
    "# print(net)\n",
    "\n",
    "# Initialize loss function and optimizer\n",
    "if 'AQI' in selected_output_variable:\n",
    "    criterion = nn.CrossEntropyLoss() # classification\n",
    "else:\n",
    "    criterion = nn.MSELoss() # regression\n",
    "\n",
    "# Test learning rates\n",
    "for alpha in alphas:\n",
    "    print(\"Training with learning rate: {}\".format(alpha))\n",
    "    optimizer = optim.SGD(net.parameters(), lr=alpha)\n",
    "\n",
    "    # train model and save to ./03_Trained_Models/NN/model_date_<model_tag>.pt\n",
    "    model_tag = '1_hidden_relu__alpha_{}'.format(alpha)\n",
    "    train(X_train, y_train, X_test, y_test, num_epochs, True, model_tag)\n",
    "    \n",
    "# Test optimizers\n",
    "for optimizer_name in optimizers:\n",
    "    if optimizer_name == 'SGD':\n",
    "        optimizer = optim.SGD(net.parameters(), lr=0.05)\n",
    "    else: \n",
    "        optimizer = optim.Adam(net.parameters(), lr=0.05)\n",
    "    \n",
    "    print(\"Training optimizer: {}\".format(optimizer_name))\n",
    "    model_tag = '1_hidden_relu__optimizer_{}'.format(optimizer_name)\n",
    "    train(X_train, y_train, X_test, y_test, num_epochs, True, model_tag)\n",
    "    \n",
    "# Test iterations\n",
    "for num_epochs in num_epochs_:\n",
    "    print(\"Training number of epochs: {}\".format(num_epochs))\n",
    "    optimizer = optim.SGD(net.parameters(), lr=0.05)\n",
    "\n",
    "    # train model and save to ./03_Trained_Models/NN/model_date_<model_tag>.pt\n",
    "    model_tag = '1_hidden_relu__epochs_{}'.format(num_epochs)\n",
    "    train(X_train, y_train, X_test, y_test, num_epochs, True, model_tag)\n",
    "    \n",
    "# Test trained model\n",
    "#print('Testing')\n",
    "#output = net(X_test)\n",
    "#loss = criterion(output, y_test).item()\n",
    "#print('\\tTest loss = ', loss)"
   ]
  }
 ],
 "metadata": {
  "@webio": {
   "lastCommId": null,
   "lastKernelId": null
  },
  "kernelspec": {
   "display_name": "Python 3",
   "language": "python",
   "name": "python3"
  },
  "language_info": {
   "codemirror_mode": {
    "name": "ipython",
    "version": 3
   },
   "file_extension": ".py",
   "mimetype": "text/x-python",
   "name": "python",
   "nbconvert_exporter": "python",
   "pygments_lexer": "ipython3",
   "version": "3.7.3"
  }
 },
 "nbformat": 4,
 "nbformat_minor": 4
}
