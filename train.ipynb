{
 "cells": [
  {
   "cell_type": "markdown",
   "metadata": {},
   "source": [
    "# Carbon Emission Prediction Model"
   ]
  },
  {
   "cell_type": "code",
   "execution_count": 28,
   "metadata": {},
   "outputs": [],
   "source": [
    "from datetime import date\n",
    "import time\n",
    "import torch # pip install torch\n",
    "import torch.optim as optim\n",
    "import torch.nn as nn\n",
    "import numpy as np\n",
    "import os\n",
    "from ipynb.fs.defs.train_benchmark import process_data; # pip install ipynb"
   ]
  },
  {
   "cell_type": "markdown",
   "metadata": {},
   "source": [
    "## Dataset load and preprocess"
   ]
  },
  {
   "cell_type": "code",
   "execution_count": 29,
   "metadata": {},
   "outputs": [],
   "source": [
    "# Set dataset locations\n",
    "selected_output_variable = \"NO2\"\n",
    "data_file = \"01_Data/02_Imagery/data_and_imagery_test.pkl\""
   ]
  },
  {
   "cell_type": "code",
   "execution_count": 30,
   "metadata": {},
   "outputs": [
    {
     "name": "stdout",
     "output_type": "stream",
     "text": [
      "1431\n",
      "9\n",
      "num training samples:  1152\n",
      "num testing samples:  288\n"
     ]
    }
   ],
   "source": [
    "X, y, res, num_channels, m = process_data(data_file, selected_output_variable) # from benchmark code\n",
    "# reshape and convert datatype\n",
    "X = torch.from_numpy(X.T).to(torch.float)\n",
    "y = torch.from_numpy(y.T).to(torch.float)\n",
    "\n",
    "# split dataset\n",
    "percent_train = 0.80\n",
    "num_train = int(percent_train * m)\n",
    "num_test = m - num_train\n",
    "print('num training samples: ', num_train)\n",
    "print('num testing samples: ', num_test)\n",
    "\n",
    "X_train, X_test = torch.utils.data.random_split(X, [num_train, num_test])\n",
    "y_train, y_test = torch.utils.data.random_split(y, [num_train, num_test])\n",
    "\n",
    "# convert from Subset to Tensor type\n",
    "X_train, X_test = X_train.dataset[X_train.indices], X_test.dataset[X_test.indices]\n",
    "y_train, y_test = y_train.dataset[y_train.indices], y_test.dataset[y_test.indices]"
   ]
  },
  {
   "cell_type": "markdown",
   "metadata": {},
   "source": [
    "## Define model"
   ]
  },
  {
   "cell_type": "code",
   "execution_count": 31,
   "metadata": {},
   "outputs": [],
   "source": [
    "class Net(nn.Module):\n",
    "    \"\"\"\n",
    "    Define the neural network: 1 hidden layer with ReLU activation\n",
    "    \"\"\"\n",
    "    def __init__(self, res, num_channels, m):\n",
    "        \"\"\"\n",
    "        Define the network layers\n",
    "        \"\"\"\n",
    "        super(Net,self).__init__()\n",
    "        self.layer1 = nn.Linear(res*res*num_channels, m) # computes W^T X + b\n",
    "        \n",
    "    def forward(self, x):\n",
    "        \"\"\"\n",
    "        Define forward pass\n",
    "        \"\"\"\n",
    "        x = torch.nn.functional.relu(self.layer1(x)) # ReLU activation\n",
    "        return x"
   ]
  },
  {
   "cell_type": "markdown",
   "metadata": {},
   "source": [
    "## Train model"
   ]
  },
  {
   "cell_type": "code",
   "execution_count": 36,
   "metadata": {},
   "outputs": [],
   "source": [
    "def train(x_train, y_train, num_epochs, save=False, model_tag=''):\n",
    "    \"\"\"\n",
    "    Train model on training data. If save=True, trained model is saved in ./03_Trained_Models/NN/model_date_<model_tag>.pt\n",
    "    Input:\n",
    "        x data and labels\n",
    "    Output:\n",
    "        trained model\n",
    "    \"\"\"\n",
    "    print('Training...')\n",
    "    t0 = time.time()\n",
    "    train_losses = []\n",
    "    optimizer.zero_grad() # clear gradients\n",
    "    for epoch in range(num_epochs):\n",
    "        output = net(x_train)\n",
    "        loss = criterion(output, y_train)\n",
    "        if (epoch%10 == 0): # save every 10th loss\n",
    "            train_losses.append(loss)\n",
    "            print('\\tloss at epoch %i = %f' %(epoch, loss))\n",
    "        loss.backward()\n",
    "        optimizer.step()\n",
    "\n",
    "    # save trained model and training details\n",
    "    if (save):\n",
    "        train_date = date.today()\n",
    "        folder_path = os.path.join('03_Trained_Models', 'NN', 'model_%s_%s' %(train_date, model_tag))\n",
    "        if (not os.path.exists(folder_path)):\n",
    "            os.mkdir(folder_path)\n",
    "        \n",
    "        # save trained model\n",
    "        path = os.path.join(folder_path, 'model_%s_%s.pt' %(train_date, model_tag))\n",
    "        torch.save(net.state_dict(), path)\n",
    "        \n",
    "        # save training details\n",
    "        path = os.path.join(folder_path, 'model_%s_%s_training.txt' %(train_date, model_tag))\n",
    "        with open(path, 'w') as f:\n",
    "            f.write(\"Size of x_train: %s\" %(str(x_train.shape)))\n",
    "            f.write(\"\\nSize of y_train: %s\\n\" %(str(y_train.shape)))\n",
    "            for i, loss in enumerate(train_losses):\n",
    "                f.write(\"\\nLoss at epoch %i: %f\" %(i*10, loss)) # CHANGE THIS\n",
    "            f.write(\"\\n\\nTotal train time: %fs\" %(time.time() - t0))\n",
    "        \n",
    "    return net"
   ]
  },
  {
   "cell_type": "markdown",
   "metadata": {},
   "source": [
    "## Define hyperparameters"
   ]
  },
  {
   "cell_type": "code",
   "execution_count": 33,
   "metadata": {},
   "outputs": [],
   "source": [
    "num_epochs = 100 # number iterations for gradient descent"
   ]
  },
  {
   "cell_type": "markdown",
   "metadata": {},
   "source": [
    "## Main"
   ]
  },
  {
   "cell_type": "code",
   "execution_count": 37,
   "metadata": {},
   "outputs": [
    {
     "name": "stdout",
     "output_type": "stream",
     "text": [
      "Training...\n",
      "\tloss at epoch 0 = 745.739380\n",
      "\tloss at epoch 10 = 368.665161\n",
      "\tloss at epoch 20 = 475.862396\n",
      "\tloss at epoch 30 = 668.649353\n",
      "\tloss at epoch 40 = 289.277344\n",
      "\tloss at epoch 50 = 608.011108\n",
      "\tloss at epoch 60 = 577.870361\n",
      "\tloss at epoch 70 = 309.116486\n",
      "\tloss at epoch 80 = 678.367249\n",
      "\tloss at epoch 90 = 443.373505\n",
      "Testing...\n",
      "\tTest loss =  406.5015869140625\n"
     ]
    }
   ],
   "source": [
    "# initialize network\n",
    "net = Net(res, num_channels, m)\n",
    "L = len(list(net.parameters())) # number of layers\n",
    "# print(net)\n",
    "\n",
    "# initialize loss function and optimizer\n",
    "criterion = nn.MSELoss() # for regression\n",
    "optimizer = optim.SGD(net.parameters(), lr=0.05)\n",
    "\n",
    "# train model and save to ./03_Trained_Models/NN/model_date_<model_tag>.pt\n",
    "model_tag = '1_hidden_relu'\n",
    "train(X, y, num_epochs, True, model_tag)\n",
    "\n",
    "# test model\n",
    "print('Testing...')\n",
    "output = net(X_test)\n",
    "loss = criterion(output, y_test).item()\n",
    "print('\\tTest loss = ', loss)"
   ]
  }
 ],
 "metadata": {
  "kernelspec": {
   "display_name": "Python 3",
   "language": "python",
   "name": "python3"
  },
  "language_info": {
   "codemirror_mode": {
    "name": "ipython",
    "version": 3
   },
   "file_extension": ".py",
   "mimetype": "text/x-python",
   "name": "python",
   "nbconvert_exporter": "python",
   "pygments_lexer": "ipython3",
   "version": "3.8.3"
  }
 },
 "nbformat": 4,
 "nbformat_minor": 4
}
