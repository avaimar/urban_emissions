{
 "cells": [
  {
   "cell_type": "markdown",
   "metadata": {},
   "source": [
    "## Proposal benchmark model"
   ]
  },
  {
   "cell_type": "code",
   "execution_count": 1,
   "metadata": {},
   "outputs": [],
   "source": [
    "import numpy as np\n",
    "import pandas as pd\n",
    "import pickle\n",
    "from sklearn.neural_network import MLPRegressor\n",
    "from sklearn.neural_network import MLPClassifier\n",
    "from sklearn.model_selection import train_test_split\n",
    "import time\n",
    "import os"
   ]
  },
  {
   "cell_type": "markdown",
   "metadata": {},
   "source": [
    "## Dataset preprocessing"
   ]
  },
  {
   "cell_type": "code",
   "execution_count": 13,
   "metadata": {},
   "outputs": [],
   "source": [
    "# Set dataset locations\n",
    "selected_output_variable =  \"OZONE_AQI\" # \"NO2\"\n",
    "data_file = \"01_Data/02_Imagery/data_and_imagery_test.pkl\""
   ]
  },
  {
   "cell_type": "code",
   "execution_count": 36,
   "metadata": {},
   "outputs": [],
   "source": [
    "def process_data(data_file, selected_output_variable):\n",
    "    \"\"\"\n",
    "    Load and reshape images into a numpy array\n",
    "    Input:\n",
    "        filepath to file with matched image and emission data\n",
    "    Output:\n",
    "        numpy array of shape (resolution * resolution * num_channels, num_images)\n",
    "    \"\"\"\n",
    "    # open file\n",
    "    data = pickle.load(open(data_file, 'rb'))\n",
    "            \n",
    "    # filter for output variable\n",
    "    data = data[data['type'] == \"OZONE_AQI\"] #selected_output_variable]\n",
    "    aqi = np.array(data['AQI_level'])\n",
    "    unique_vals = np.unique(aqi)\n",
    "    aqi_good = aqi[aqi=='good']\n",
    "    aqi_mod = aqi[aqi=='moderate']\n",
    "    print(len(aqi_good))\n",
    "    print(len(aqi_mod))\n",
    "    \n",
    "    # get image dims\n",
    "    m = len(data)\n",
    "    res, num_channels = data['imagery'].iloc[0].shape[0], data['imagery'].iloc[0].shape[2]\n",
    "    \n",
    "    # get X data as np array and check dims\n",
    "    images = np.array(data['imagery'].to_list())\n",
    "    images = images.reshape(images.shape[0], -1).T\n",
    "    assert(images.shape == (res*res*num_channels, m))\n",
    "    \n",
    "    # get y data as np array and check dims\n",
    "    if \"AQI\" in selected_output_variable:        # Distinguish between preprocessing for classification and regression\n",
    "        labels = data['AQI_level'].to_numpy().reshape(1,m)\n",
    "    else:\n",
    "        labels = data['value'].to_numpy().reshape(1,m)\n",
    "    \n",
    "    assert(labels.shape == (1,m))\n",
    "    \n",
    "    return images, labels, res, num_channels, m"
   ]
  },
  {
   "cell_type": "markdown",
   "metadata": {},
   "source": [
    "## Train and evaluate model"
   ]
  },
  {
   "cell_type": "code",
   "execution_count": 37,
   "metadata": {},
   "outputs": [
    {
     "name": "stdout",
     "output_type": "stream",
     "text": [
      "Preparing data...\n",
      "\tdata filename:  01_Data/02_Imagery/data_and_imagery_test.pkl\n",
      "\tvariable:  OZONE_AQI\n",
      "1431\n",
      "9\n",
      "\tsize of X:  (1440, 3468)\n",
      "\tsize of Y:  (1440,)\n",
      "\tnumber of training samples:  1080\n",
      "\tnumber of test samples:  360\n",
      "Done (0.098s)\n",
      "\n",
      "Training classifier...\n",
      "Done (3.153s)\n",
      "\n",
      "Score:  0.9888888888888889\n"
     ]
    }
   ],
   "source": [
    "# load data\n",
    "print(\"Preparing data...\")\n",
    "print(\"\\tdata filename: \", data_file)\n",
    "print(\"\\tvariable: \", selected_output_variable)\n",
    "t0 = time.time()\n",
    "X, y, _, _, _ = process_data(data_file, selected_output_variable)\n",
    "\n",
    "X, y = X.T, np.ravel(y.T) # sklearn likes them transposed and a (m,) shape for y\n",
    "print(\"\\tsize of X: \", X.shape)\n",
    "print(\"\\tsize of Y: \", y.shape)\n",
    "\n",
    "# Create train/test split\n",
    "X_train, X_test, y_train, y_test = train_test_split(X, y, random_state=42)\n",
    "print('\\tnumber of training samples: ', X_train.shape[0])\n",
    "print('\\tnumber of test samples: ', X_test.shape[0])\n",
    "print(\"Done (%0.3fs)\" %(time.time() - t0))\n",
    "\n",
    "# Train model\n",
    "t1 = time.time()\n",
    "if \"AQI\" in selected_output_variable:\n",
    "    print('\\nTraining classifier...')\n",
    "    model = MLPClassifier(random_state=1, max_iter=500).fit(X_train, y_train)\n",
    "else:\n",
    "    print('\\nTraining regressor...')\n",
    "    model = MLPRegressor(random_state=1, max_iter=500).fit(X_train, y_train)\n",
    "print('Done (%0.3fs)' %(time.time()-t1))\n",
    "\n",
    "# Evaluate performance\n",
    "r2 = model.score(X_test, y_test)\n",
    "print('\\nScore: ', r2)"
   ]
  }
 ],
 "metadata": {
  "kernelspec": {
   "display_name": "Python 3",
   "language": "python",
   "name": "python3"
  },
  "language_info": {
   "codemirror_mode": {
    "name": "ipython",
    "version": 3
   },
   "file_extension": ".py",
   "mimetype": "text/x-python",
   "name": "python",
   "nbconvert_exporter": "python",
   "pygments_lexer": "ipython3",
   "version": "3.7.3"
  }
 },
 "nbformat": 4,
 "nbformat_minor": 4
}
