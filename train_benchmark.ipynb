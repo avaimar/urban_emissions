{
 "cells": [
  {
   "cell_type": "markdown",
   "metadata": {},
   "source": [
    "## Proposal benchmark model"
   ]
  },
  {
   "cell_type": "code",
   "execution_count": 41,
   "metadata": {},
   "outputs": [],
   "source": [
    "import numpy as np\n",
    "import pandas as pd\n",
    "import pickle\n",
    "from sklearn.neural_network import MLPRegressor\n",
    "from sklearn.neural_network import MLPClassifier\n",
    "from sklearn.model_selection import train_test_split\n",
    "import os"
   ]
  },
  {
   "cell_type": "markdown",
   "metadata": {},
   "source": [
    "## Dataset preprocessing"
   ]
  },
  {
   "cell_type": "code",
   "execution_count": 42,
   "metadata": {},
   "outputs": [],
   "source": [
    "# Set dataset locations\n",
    "selected_output_variable = \"OZONE\"\n",
    "data_file = \"01_Data/02_Imagery/data_and_imagery_test.pkl\""
   ]
  },
  {
   "cell_type": "code",
   "execution_count": 43,
   "metadata": {},
   "outputs": [],
   "source": [
    "def process_data(data_file, selected_output_variable):\n",
    "    \"\"\"\n",
    "    Load and reshape images into a numpy array\n",
    "    Input:\n",
    "        filepath to file with matched image and emission data\n",
    "    Output:\n",
    "        numpy array of shape (resolution * resolution * num_channels, num_images)\n",
    "    \"\"\"\n",
    "    # open file\n",
    "    data = pickle.load(open(data_file, 'rb'))\n",
    "    \n",
    "    # filter for output variable\n",
    "    data = data[data['type'] == selected_output_variable]\n",
    "    \n",
    "    # get image dims\n",
    "    m = len(data)\n",
    "    res, num_channels = data['imagery'][0].shape[0], data['imagery'][0].shape[2]\n",
    "    \n",
    "    # get X data as np array and check dims\n",
    "    images = np.array(data['imagery'].to_list())\n",
    "    images = images.reshape(images.shape[0], -1).T\n",
    "    assert(images.shape == (res*res*num_channels, m))\n",
    "    \n",
    "    # get y data as np array and check dims\n",
    "    if \"AQI\" in selected_output_variable:        # Distinguish between preprocessing for classification and regression\n",
    "        labels = data['AQI_level'].to_numpy().reshape(1,m)\n",
    "    else:\n",
    "        labels = data['value'].to_numpy().reshape(1,m)\n",
    "    \n",
    "    assert(labels.shape == (1,m))\n",
    "    \n",
    "    return images, labels, res, num_channels, m"
   ]
  },
  {
   "cell_type": "markdown",
   "metadata": {},
   "source": [
    "## Train and evaluate model"
   ]
  },
  {
   "cell_type": "code",
   "execution_count": 44,
   "metadata": {},
   "outputs": [
    {
     "name": "stdout",
     "output_type": "stream",
     "text": [
      "size of X:  (7, 3468)\n",
      "size of Y:  (7,)\n",
      "number of training samples:  5\n",
      "number of test samples:  2\n"
     ]
    },
    {
     "data": {
      "text/plain": [
       "-10.496945859572934"
      ]
     },
     "execution_count": 44,
     "metadata": {},
     "output_type": "execute_result"
    }
   ],
   "source": [
    "# load data\n",
    "X, y, _, _, _ = process_data(data_file, selected_output_variable)\n",
    "X, y = X.T, np.ravel(y.T) # sklearn likes them transposed and a (m,) shape for y\n",
    "print(\"size of X: \", X.shape)\n",
    "print(\"size of Y: \", y.shape)\n",
    "\n",
    "# Create train/test split\n",
    "X_train, X_test, y_train, y_test = train_test_split(X, y, random_state=42)\n",
    "print('number of training samples: ', X_train.shape[0])\n",
    "print('number of test samples: ', X_test.shape[0])\n",
    "\n",
    "# Train model\n",
    "if \"AQI\" in selected_output_variable:\n",
    "    model = MLPClassifier(random_state=1, max_iter=500).fit(X_train, y_train)\n",
    "else:\n",
    "    model = MLPRegressor(random_state=1, max_iter=500).fit(X_train, y_train)\n",
    "\n",
    "# Evaluate performance\n",
    "model.score(X_test, y_test)"
   ]
  }
 ],
 "metadata": {
  "kernelspec": {
   "display_name": "Python 3",
   "language": "python",
   "name": "python3"
  },
  "language_info": {
   "codemirror_mode": {
    "name": "ipython",
    "version": 3
   },
   "file_extension": ".py",
   "mimetype": "text/x-python",
   "name": "python",
   "nbconvert_exporter": "python",
   "pygments_lexer": "ipython3",
   "version": "3.8.3"
  }
 },
 "nbformat": 4,
 "nbformat_minor": 4
}
