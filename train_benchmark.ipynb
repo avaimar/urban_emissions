{
 "cells": [
  {
   "cell_type": "markdown",
   "metadata": {},
   "source": [
    "## Proposal benchmark model"
   ]
  },
  {
   "cell_type": "code",
   "execution_count": 1,
   "metadata": {},
   "outputs": [],
   "source": [
    "import numpy as np\n",
    "import pandas as pd\n",
    "import pickle\n",
    "from sklearn.neural_network import MLPRegressor\n",
    "from sklearn.neural_network import MLPClassifier\n",
    "from sklearn.model_selection import train_test_split\n",
    "import time\n",
    "import os"
   ]
  },
  {
   "cell_type": "markdown",
   "metadata": {},
   "source": [
    "## Dataset preprocessing"
   ]
  },
  {
   "cell_type": "code",
   "execution_count": 2,
   "metadata": {},
   "outputs": [],
   "source": [
    "# Set dataset locations\n",
    "selected_output_variable =  \"OZONE_AQI\" # \"NO2\"\n",
    "data_file = \"01_Data/02_Imagery/data_and_imagery_test.pkl\""
   ]
  },
  {
   "cell_type": "code",
   "execution_count": 3,
   "metadata": {},
   "outputs": [],
   "source": [
    "def process_data(data_file, selected_output_variable):\n",
    "    \"\"\"\n",
    "    Load and reshape images into a numpy array\n",
    "    Input:\n",
    "        filepath to file with matched image and emission data\n",
    "    Output:\n",
    "        numpy array of shape (resolution * resolution * num_channels, num_images)\n",
    "    \"\"\"\n",
    "    # open file\n",
    "    data = pickle.load(open(data_file, 'rb'))\n",
    "            \n",
    "    # filter for output variable\n",
    "    data = data[data['type'] == selected_output_variable]\n",
    "    \n",
    "    # get image dims\n",
    "    m = len(data)\n",
    "    res, num_channels = data['imagery'].iloc[0].shape[0], data['imagery'].iloc[0].shape[2]\n",
    "    \n",
    "    # get X data as np array and check dims\n",
    "    images = np.array(data['imagery'].to_list())\n",
    "    images = images.reshape(images.shape[0], -1).T\n",
    "    assert(images.shape == (res*res*num_channels, m))\n",
    "    \n",
    "    # get y data as np array and check dims\n",
    "    if \"AQI\" in selected_output_variable:        # Distinguish between preprocessing for classification and regression\n",
    "        labels = data['AQI_level'].to_numpy().reshape(1,m)\n",
    "    else:\n",
    "        labels = data['value'].to_numpy().reshape(1,m)\n",
    "    \n",
    "    assert(labels.shape == (1,m))\n",
    "    \n",
    "    return images, labels, res, num_channels, m"
   ]
  },
  {
   "cell_type": "markdown",
   "metadata": {},
   "source": [
    "## Train and evaluate model"
   ]
  },
  {
   "cell_type": "code",
   "execution_count": 4,
   "metadata": {},
   "outputs": [
    {
     "name": "stdout",
     "output_type": "stream",
     "text": [
      "Preparing data...\n",
      "\tdata filename:  01_Data/02_Imagery/data_and_imagery_test.pkl\n",
      "\tvariable:  OZONE_AQI\n"
     ]
    },
    {
     "ename": "ValueError",
     "evalue": "unsupported pickle protocol: 5",
     "output_type": "error",
     "traceback": [
      "\u001b[1;31m---------------------------------------------------------------------------\u001b[0m",
      "\u001b[1;31mValueError\u001b[0m                                Traceback (most recent call last)",
      "\u001b[1;32m<ipython-input-4-b20f93750b9a>\u001b[0m in \u001b[0;36m<module>\u001b[1;34m\u001b[0m\n\u001b[0;32m      4\u001b[0m \u001b[0mprint\u001b[0m\u001b[1;33m(\u001b[0m\u001b[1;34m\"\\tvariable: \"\u001b[0m\u001b[1;33m,\u001b[0m \u001b[0mselected_output_variable\u001b[0m\u001b[1;33m)\u001b[0m\u001b[1;33m\u001b[0m\u001b[1;33m\u001b[0m\u001b[0m\n\u001b[0;32m      5\u001b[0m \u001b[0mt0\u001b[0m \u001b[1;33m=\u001b[0m \u001b[0mtime\u001b[0m\u001b[1;33m.\u001b[0m\u001b[0mtime\u001b[0m\u001b[1;33m(\u001b[0m\u001b[1;33m)\u001b[0m\u001b[1;33m\u001b[0m\u001b[1;33m\u001b[0m\u001b[0m\n\u001b[1;32m----> 6\u001b[1;33m \u001b[0mX\u001b[0m\u001b[1;33m,\u001b[0m \u001b[0my\u001b[0m\u001b[1;33m,\u001b[0m \u001b[0m_\u001b[0m\u001b[1;33m,\u001b[0m \u001b[0m_\u001b[0m\u001b[1;33m,\u001b[0m \u001b[0m_\u001b[0m \u001b[1;33m=\u001b[0m \u001b[0mprocess_data\u001b[0m\u001b[1;33m(\u001b[0m\u001b[0mdata_file\u001b[0m\u001b[1;33m,\u001b[0m \u001b[0mselected_output_variable\u001b[0m\u001b[1;33m)\u001b[0m\u001b[1;33m\u001b[0m\u001b[1;33m\u001b[0m\u001b[0m\n\u001b[0m\u001b[0;32m      7\u001b[0m \u001b[1;33m\u001b[0m\u001b[0m\n\u001b[0;32m      8\u001b[0m \u001b[0mX\u001b[0m\u001b[1;33m,\u001b[0m \u001b[0my\u001b[0m \u001b[1;33m=\u001b[0m \u001b[0mX\u001b[0m\u001b[1;33m.\u001b[0m\u001b[0mT\u001b[0m\u001b[1;33m,\u001b[0m \u001b[0mnp\u001b[0m\u001b[1;33m.\u001b[0m\u001b[0mravel\u001b[0m\u001b[1;33m(\u001b[0m\u001b[0my\u001b[0m\u001b[1;33m.\u001b[0m\u001b[0mT\u001b[0m\u001b[1;33m)\u001b[0m \u001b[1;31m# sklearn likes them transposed and a (m,) shape for y\u001b[0m\u001b[1;33m\u001b[0m\u001b[1;33m\u001b[0m\u001b[0m\n",
      "\u001b[1;32m<ipython-input-3-66ecdafec1bd>\u001b[0m in \u001b[0;36mprocess_data\u001b[1;34m(data_file, selected_output_variable)\u001b[0m\n\u001b[0;32m      8\u001b[0m     \"\"\"\n\u001b[0;32m      9\u001b[0m     \u001b[1;31m# open file\u001b[0m\u001b[1;33m\u001b[0m\u001b[1;33m\u001b[0m\u001b[1;33m\u001b[0m\u001b[0m\n\u001b[1;32m---> 10\u001b[1;33m     \u001b[0mdata\u001b[0m \u001b[1;33m=\u001b[0m \u001b[0mpickle\u001b[0m\u001b[1;33m.\u001b[0m\u001b[0mload\u001b[0m\u001b[1;33m(\u001b[0m\u001b[0mopen\u001b[0m\u001b[1;33m(\u001b[0m\u001b[0mdata_file\u001b[0m\u001b[1;33m,\u001b[0m \u001b[1;34m'rb'\u001b[0m\u001b[1;33m)\u001b[0m\u001b[1;33m)\u001b[0m\u001b[1;33m\u001b[0m\u001b[1;33m\u001b[0m\u001b[0m\n\u001b[0m\u001b[0;32m     11\u001b[0m \u001b[1;33m\u001b[0m\u001b[0m\n\u001b[0;32m     12\u001b[0m     \u001b[1;31m# filter for output variable\u001b[0m\u001b[1;33m\u001b[0m\u001b[1;33m\u001b[0m\u001b[1;33m\u001b[0m\u001b[0m\n",
      "\u001b[1;31mValueError\u001b[0m: unsupported pickle protocol: 5"
     ]
    }
   ],
   "source": [
    "# load data\n",
    "print(\"Preparing data...\")\n",
    "print(\"\\tdata filename: \", data_file)\n",
    "print(\"\\tvariable: \", selected_output_variable)\n",
    "t0 = time.time()\n",
    "X, y, _, _, _ = process_data(data_file, selected_output_variable)\n",
    "\n",
    "X, y = X.T, np.ravel(y.T) # sklearn likes them transposed and a (m,) shape for y\n",
    "print(\"\\tsize of X: \", X.shape)\n",
    "print(\"\\tsize of Y: \", y.shape)\n",
    "\n",
    "# Create train/test split\n",
    "X_train, X_test, y_train, y_test = train_test_split(X, y, random_state=42)\n",
    "print('\\tnumber of training samples: ', X_train.shape[0])\n",
    "print('\\tnumber of test samples: ', X_test.shape[0])\n",
    "print(\"Done (%0.3fs)\" %(time.time() - t0))\n",
    "\n",
    "# Train model\n",
    "t1 = time.time()\n",
    "if \"AQI\" in selected_output_variable:\n",
    "    print('\\nTraining classifier...')\n",
    "    model = MLPClassifier(random_state=1, max_iter=500).fit(X_train, y_train)\n",
    "else:\n",
    "    print('\\nTraining regressor...')\n",
    "    model = MLPRegressor(random_state=1, max_iter=500).fit(X_train, y_train)\n",
    "print('Done (%0.3fs)' %(time.time()-t1))\n",
    "\n",
    "# Evaluate performance\n",
    "r2 = model.score(X_test, y_test)\n",
    "print('\\nScore: ', r2)"
   ]
  },
  {
   "cell_type": "code",
   "execution_count": null,
   "metadata": {},
   "outputs": [],
   "source": []
  }
 ],
 "metadata": {
  "kernelspec": {
   "display_name": "Python 3",
   "language": "python",
   "name": "python3"
  },
  "language_info": {
   "codemirror_mode": {
    "name": "ipython",
    "version": 3
   },
   "file_extension": ".py",
   "mimetype": "text/x-python",
   "name": "python",
   "nbconvert_exporter": "python",
   "pygments_lexer": "ipython3",
   "version": "3.7.3"
  }
 },
 "nbformat": 4,
 "nbformat_minor": 4
}
