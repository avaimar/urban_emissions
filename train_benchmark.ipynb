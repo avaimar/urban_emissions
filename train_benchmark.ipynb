{
 "cells": [
  {
   "cell_type": "markdown",
   "metadata": {},
   "source": [
    "## Proposal benchmark model"
   ]
  },
  {
   "cell_type": "code",
   "execution_count": 32,
   "metadata": {},
   "outputs": [],
   "source": [
    "import torch # install using $ pip install torch\n",
    "import torch.optim as optim\n",
    "import torch.nn as nn\n",
    "import numpy as np\n",
    "import pandas as pd\n",
    "from sklearn.neural_network import MLPRegressor\n",
    "from sklearn.neural_network import MLPClassifier\n",
    "from sklearn.model_selection import train_test_split\n",
    "import os"
   ]
  },
  {
   "cell_type": "markdown",
   "metadata": {},
   "source": [
    "## Dataset preprocessing"
   ]
  },
  {
   "cell_type": "code",
   "execution_count": 19,
   "metadata": {},
   "outputs": [],
   "source": [
    "# Set dataset locations\n",
    "emissions_file = \"01_Data/01_Carbon_emissions/AirNow/World_locations_2020_avg.csv\"\n",
    "selected_output_variable = \"NO2\"\n",
    "satellite_file = \"\""
   ]
  },
  {
   "cell_type": "code",
   "execution_count": 9,
   "metadata": {},
   "outputs": [],
   "source": [
    "def process_images(image_files):\n",
    "    \"\"\"\n",
    "    EDIT LATER\n",
    "    Load and reshape images into an array where each column represents one image\n",
    "    Input:\n",
    "        filepath to folder with images or image filename if already aggregated\n",
    "    Output:\n",
    "        tensor of size (resolution * resolution * num_channelss, num_images)\n",
    "    \"\"\"\n",
    "    data = np.random((res*res*num_channels, num_images)) # fake data for now\n",
    "    x_train = torch.tensor(data)\n",
    "    return x_train"
   ]
  },
  {
   "cell_type": "code",
   "execution_count": 26,
   "metadata": {},
   "outputs": [
    {
     "ename": "SyntaxError",
     "evalue": "invalid syntax (<ipython-input-26-18880dbee0d2>, line 18)",
     "output_type": "error",
     "traceback": [
      "\u001b[1;36m  File \u001b[1;32m\"<ipython-input-26-18880dbee0d2>\"\u001b[1;36m, line \u001b[1;32m18\u001b[0m\n\u001b[1;33m    emissions_data['output'] =\u001b[0m\n\u001b[1;37m                               ^\u001b[0m\n\u001b[1;31mSyntaxError\u001b[0m\u001b[1;31m:\u001b[0m invalid syntax\n"
     ]
    }
   ],
   "source": [
    "def process_emissions(emissions_file, selected_output_variable):\n",
    "    \"\"\"\n",
    "    Load emission measurements into one column\n",
    "    Input:\n",
    "        path to local folder that contains emission file\n",
    "        selected output variable indicating measurement to be predicted\n",
    "    Output:\n",
    "        data frame of size (number of examples, 3) including lat, lon and output\n",
    "    \"\"\"\n",
    "    emissions_data = pd.read_csv(emissions_file)\n",
    "    \n",
    "    # Filter selected output variable\n",
    "    emissions_data = emissions_data[emissions_data['type'] == selected_output_variable]\n",
    "    \n",
    "    # Distinguish between preprocessing for classification and regression\n",
    "    if \"AQI\" in selected_output_variable:\n",
    "        emissions_data['output'] = if emissions_data['value'] <= 50 'good' elif \n",
    "    else:\n",
    "        emissions_data['output'] = emissions_data['values']\n",
    "    \n",
    "    #emissions_labels = torch.randint(num_categories,(num_images,1)) # fake data\n",
    "    #emissions = nn.functional.one_hot(emissions_labels, num_categories)\n",
    "    return emissions[['lat', 'lon', 'output']]"
   ]
  },
  {
   "cell_type": "code",
   "execution_count": 33,
   "metadata": {},
   "outputs": [],
   "source": [
    "def map_emissions_to_images():\n",
    "    pass"
   ]
  },
  {
   "cell_type": "markdown",
   "metadata": {},
   "source": [
    "## Train model"
   ]
  },
  {
   "cell_type": "code",
   "execution_count": null,
   "metadata": {},
   "outputs": [],
   "source": [
    "# load data\n",
    "X = process_images(satellite_file)\n",
    "print(\"size of X: \", X.shape)\n",
    "y = process_emissions(emissions_file, selected_output_variable)\n",
    "print(\"size of Y: \", y.shape)\n",
    "\n",
    "# Create train/test split\n",
    "X_train, X_test, y_train, y_test = train_test_split(X, y, random_state=42)\n",
    "\n",
    "# Train model\n",
    "if \"AQI\" in selected_output_variable:\n",
    "    model = MLPClassifier(random_state=1, max_iter=500).fit(X_train, y_train)\n",
    "else:\n",
    "    model = MLPRegressor(random_state=1, max_iter=500).fit(X_train, y_train)\n",
    "\n",
    "# Evaluate performance\n",
    "model.score(X_test, y_test)"
   ]
  },
  {
   "cell_type": "code",
   "execution_count": null,
   "metadata": {},
   "outputs": [],
   "source": []
  },
  {
   "cell_type": "code",
   "execution_count": null,
   "metadata": {},
   "outputs": [],
   "source": []
  },
  {
   "cell_type": "code",
   "execution_count": null,
   "metadata": {},
   "outputs": [],
   "source": []
  },
  {
   "cell_type": "code",
   "execution_count": 6,
   "metadata": {},
   "outputs": [],
   "source": [
    "res = 64\n",
    "num_channels = 3 # will be 7 later\n",
    "num_images = 10\n",
    "learning_rate = 0.05\n",
    "num_categories = 6\n",
    "classes = ['good', 'moderate', 'unhealthy_sensitive_groups',\n",
    "           'unealthy', 'very_unhealthy', 'hazardous']"
   ]
  },
  {
   "cell_type": "code",
   "execution_count": 124,
   "metadata": {},
   "outputs": [],
   "source": [
    "class Net(nn.Module):\n",
    "    \"\"\"\n",
    "    Define the neural network\n",
    "    \"\"\"\n",
    "    def __init__(self):\n",
    "        super(Net,self).__init__()\n",
    "        self.layer1 = nn.Linear(res*res*num_channels, num_categories) # One linear layer\n",
    "\n",
    "    def forward(self, x):\n",
    "        \"\"\"\n",
    "        Define forward pass\n",
    "        \"\"\"\n",
    "        x = self.layer1(x)\n",
    "        # x = nn.softmax(x)  # Softmax activation\n",
    "        x = nn.functional.softmax(x, dim=1)\n",
    "        return x"
   ]
  },
  {
   "cell_type": "code",
   "execution_count": 128,
   "metadata": {},
   "outputs": [],
   "source": [
    "def train(x_train, y_train):\n",
    "    \"\"\"\n",
    "    Train model on training data\n",
    "    Input:\n",
    "        x data and labels\n",
    "    Output:\n",
    "        trained model\n",
    "    \"\"\"\n",
    "    # model = torchvision.models.resnet18(pretrained=True)\n",
    "    # loss_sum = 0\n",
    "    \n",
    "    for epoch in range(1):\n",
    "        optimizer.zero_grad() # zero gradients\n",
    "        x_train = x_train.reshape(num_images, res*res*num_channels)\n",
    "        # x_train = x_train.to(torch.float64)\n",
    "        output = net(x_train.float())\n",
    "        print(output)\n",
    "        print(y_train)\n",
    "        loss = criterion(output, y_train)\n",
    "        loss.backward()\n",
    "        optimizer.step()\n",
    "\n",
    "        # loss_sum += loss.item()  \n",
    "\n",
    "    # save trained model\n",
    "    # PATH = ('./models/benchmark_model.pth')\n",
    "    # torch.save(net.state_dict(), PATH)\n",
    "    return net"
   ]
  },
  {
   "cell_type": "code",
   "execution_count": 31,
   "metadata": {
    "scrolled": false
   },
   "outputs": [
    {
     "ename": "NameError",
     "evalue": "name 'res' is not defined",
     "output_type": "error",
     "traceback": [
      "\u001b[1;31m---------------------------------------------------------------------------\u001b[0m",
      "\u001b[1;31mNameError\u001b[0m                                 Traceback (most recent call last)",
      "\u001b[1;32m<ipython-input-31-5776c7e19066>\u001b[0m in \u001b[0;36m<module>\u001b[1;34m\u001b[0m\n\u001b[0;32m      6\u001b[0m \u001b[1;33m\u001b[0m\u001b[0m\n\u001b[0;32m      7\u001b[0m \u001b[1;31m# load data\u001b[0m\u001b[1;33m\u001b[0m\u001b[1;33m\u001b[0m\u001b[1;33m\u001b[0m\u001b[0m\n\u001b[1;32m----> 8\u001b[1;33m \u001b[0mx_train\u001b[0m \u001b[1;33m=\u001b[0m \u001b[0mprocess_images\u001b[0m\u001b[1;33m(\u001b[0m\u001b[1;34m\"01_\"\u001b[0m\u001b[1;33m)\u001b[0m\u001b[1;33m\u001b[0m\u001b[1;33m\u001b[0m\u001b[0m\n\u001b[0m\u001b[0;32m      9\u001b[0m \u001b[0mprint\u001b[0m\u001b[1;33m(\u001b[0m\u001b[1;34m\"size of x_train: \"\u001b[0m\u001b[1;33m,\u001b[0m \u001b[0mx_train\u001b[0m\u001b[1;33m.\u001b[0m\u001b[0mshape\u001b[0m\u001b[1;33m)\u001b[0m\u001b[1;33m\u001b[0m\u001b[1;33m\u001b[0m\u001b[0m\n\u001b[0;32m     10\u001b[0m \u001b[0my_train\u001b[0m \u001b[1;33m=\u001b[0m \u001b[0mprocess_emissions\u001b[0m\u001b[1;33m(\u001b[0m\u001b[1;34m\"foo.csv\"\u001b[0m\u001b[1;33m)\u001b[0m\u001b[1;33m\u001b[0m\u001b[1;33m\u001b[0m\u001b[0m\n",
      "\u001b[1;32m<ipython-input-9-6714e34af61d>\u001b[0m in \u001b[0;36mprocess_images\u001b[1;34m(image_files)\u001b[0m\n\u001b[0;32m      8\u001b[0m         \u001b[0mtensor\u001b[0m \u001b[0mof\u001b[0m \u001b[0msize\u001b[0m \u001b[1;33m(\u001b[0m\u001b[0mresolution\u001b[0m \u001b[1;33m*\u001b[0m \u001b[0mresolution\u001b[0m \u001b[1;33m*\u001b[0m \u001b[0mnum_channelss\u001b[0m\u001b[1;33m,\u001b[0m \u001b[0mnum_images\u001b[0m\u001b[1;33m)\u001b[0m\u001b[1;33m\u001b[0m\u001b[1;33m\u001b[0m\u001b[0m\n\u001b[0;32m      9\u001b[0m     \"\"\"\n\u001b[1;32m---> 10\u001b[1;33m     \u001b[0mdata\u001b[0m \u001b[1;33m=\u001b[0m \u001b[0mnp\u001b[0m\u001b[1;33m.\u001b[0m\u001b[0mrandom\u001b[0m\u001b[1;33m(\u001b[0m\u001b[1;33m(\u001b[0m\u001b[0mres\u001b[0m\u001b[1;33m*\u001b[0m\u001b[0mres\u001b[0m\u001b[1;33m*\u001b[0m\u001b[0mnum_channels\u001b[0m\u001b[1;33m,\u001b[0m \u001b[0mnum_images\u001b[0m\u001b[1;33m)\u001b[0m\u001b[1;33m)\u001b[0m \u001b[1;31m# fake data for now\u001b[0m\u001b[1;33m\u001b[0m\u001b[1;33m\u001b[0m\u001b[0m\n\u001b[0m\u001b[0;32m     11\u001b[0m     \u001b[0mx_train\u001b[0m \u001b[1;33m=\u001b[0m \u001b[0mtorch\u001b[0m\u001b[1;33m.\u001b[0m\u001b[0mtensor\u001b[0m\u001b[1;33m(\u001b[0m\u001b[0mdata\u001b[0m\u001b[1;33m)\u001b[0m\u001b[1;33m\u001b[0m\u001b[1;33m\u001b[0m\u001b[0m\n\u001b[0;32m     12\u001b[0m     \u001b[1;32mreturn\u001b[0m \u001b[0mx_train\u001b[0m\u001b[1;33m\u001b[0m\u001b[1;33m\u001b[0m\u001b[0m\n",
      "\u001b[1;31mNameError\u001b[0m: name 'res' is not defined"
     ]
    }
   ],
   "source": [
    "# Main\n",
    "\n",
    "net = Net()\n",
    "criterion = nn.NLLLoss() # nn.CrossEntropyLoss()\n",
    "optimizer = optim.SGD(net.parameters(), lr=learning_rate)\n",
    "\n",
    "# load data\n",
    "x_train = process_images(\"01_\")\n",
    "print(\"size of x_train: \", x_train.shape)\n",
    "y_train = process_emissions(\"foo.csv\")\n",
    "print(y_train)\n",
    "print(\"size of y_train: \", y_train.shape)\n",
    "\n",
    "# Train model\n",
    "print(net)\n",
    "train(x_train, y_train)"
   ]
  }
 ],
 "metadata": {
  "kernelspec": {
   "display_name": "Python 3",
   "language": "python",
   "name": "python3"
  },
  "language_info": {
   "codemirror_mode": {
    "name": "ipython",
    "version": 3
   },
   "file_extension": ".py",
   "mimetype": "text/x-python",
   "name": "python",
   "nbconvert_exporter": "python",
   "pygments_lexer": "ipython3",
   "version": "3.7.3"
  }
 },
 "nbformat": 4,
 "nbformat_minor": 4
}
