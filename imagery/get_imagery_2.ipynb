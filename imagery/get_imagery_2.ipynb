{
 "cells": [
  {
   "cell_type": "markdown",
   "metadata": {},
   "source": [
    "## Get images from Landsat 8\n",
    "\n",
    "### Summary of Workflow to get images for a single location:\n",
    "1. Run the first cell below if ee is not installed in the jupyter environment.\n",
    "2. Get lat/long for a specific location from the emissions file https://github.com/avaimar/urban_emissions/blob/main/01_Data/01_Carbon_emissions/AirNow/World_cities_2020_avg_latlon.csv and run the get_box function with that (lat, long).\n",
    "4. Copy paste the printed variables ('rectangle' and 'region') into the next cell and run. Download images by clicking on the links in the cell output (or they are saved to Drive)\n",
    "\n",
    "### Notes / Next Steps:\n",
    "1. Each link downloads a zip file with three TIFF files where each of these corresponds to one of the bands. I am not sure how to visualize this to make sure that the images are correct.\n",
    "2. I'm using this Landsat dataset hopefully that is correct? https://developers.google.com/earth-engine/datasets/catalog/LANDSAT_LC08_C01_T2\n",
    "3. One thing to note is that different locations have different amounts of data available. For example, I had to increase the box size to around 300 - 325km to get any data for London which seems like a huge area. Using this same grid size for the Boston location, for example, returns many more images than is found for London. I average all images in a unit geographic grid cell anyway, but just to note.\n",
    "4. I don't have enough space on my laptop to download all of this data. I haven't gotten the upload to Google Drive part to work that you had Nicolas...It creates an empty folder in my Drive account but the images are not actually uploaded. Maybe you can help with this.\n",
    "5. Another next step is to automate this, although it should be fairly simple to pull lat/long from Andrea's CSV file and plug it into these functions. I just want to figure out the Google Drive part first because my laptop can't store all of those files...\n",
    "6. Finally, should convert these to numpy array format and then we can save them in .npy instead of TIFF format."
   ]
  },
  {
   "cell_type": "markdown",
   "metadata": {},
   "source": [
    "## Step 1: Install package if not already"
   ]
  },
  {
   "cell_type": "code",
   "execution_count": 2,
   "metadata": {
    "scrolled": true
   },
   "outputs": [
    {
     "name": "stdout",
     "output_type": "stream",
     "text": [
      "Collecting earthengine-api\n",
      "  Using cached earthengine-api-0.1.248.tar.gz (150 kB)\n",
      "Collecting future\n",
      "  Using cached future-0.18.2.tar.gz (829 kB)\n",
      "Collecting google-cloud-storage\n",
      "  Using cached google_cloud_storage-1.35.0-py2.py3-none-any.whl (96 kB)\n",
      "Collecting google-api-python-client>=1.12.1\n",
      "  Using cached google_api_python_client-1.12.8-py2.py3-none-any.whl (61 kB)\n",
      "Collecting google-auth>=1.4.1\n",
      "  Using cached google_auth-1.24.0-py2.py3-none-any.whl (114 kB)\n",
      "Collecting google-auth-httplib2>=0.0.3\n",
      "  Using cached google_auth_httplib2-0.0.4-py2.py3-none-any.whl (9.1 kB)\n",
      "Collecting httplib2<1dev,>=0.9.2\n",
      "  Using cached httplib2-0.18.1-py3-none-any.whl (95 kB)\n",
      "Collecting httplib2shim\n",
      "  Using cached httplib2shim-0.0.3.tar.gz (17 kB)\n",
      "Requirement already satisfied: six in c:\\users\\ninap\\miniconda3\\lib\\site-packages (from earthengine-api) (1.14.0)\n",
      "Requirement already satisfied: requests<3.0.0dev,>=2.18.0 in c:\\users\\ninap\\miniconda3\\lib\\site-packages (from google-cloud-storage->earthengine-api) (2.23.0)\n",
      "Collecting google-resumable-media<2.0dev,>=1.2.0\n",
      "  Using cached google_resumable_media-1.2.0-py2.py3-none-any.whl (75 kB)\n",
      "Collecting google-cloud-core<2.0dev,>=1.4.1\n",
      "  Using cached google_cloud_core-1.5.0-py2.py3-none-any.whl (27 kB)\n",
      "Collecting google-api-core<2dev,>=1.21.0\n",
      "  Using cached google_api_core-1.25.1-py2.py3-none-any.whl (92 kB)\n",
      "Collecting uritemplate<4dev,>=3.0.0\n",
      "  Using cached uritemplate-3.0.1-py2.py3-none-any.whl (15 kB)\n",
      "Requirement already satisfied: setuptools>=40.3.0 in c:\\users\\ninap\\miniconda3\\lib\\site-packages (from google-auth>=1.4.1->earthengine-api) (46.4.0.post20200518)\n",
      "Collecting rsa<5,>=3.1.4; python_version >= \"3.6\"\n",
      "  Using cached rsa-4.7-py3-none-any.whl (34 kB)\n",
      "Collecting cachetools<5.0,>=2.0.0\n",
      "  Using cached cachetools-4.2.1-py3-none-any.whl (12 kB)\n",
      "Collecting pyasn1-modules>=0.2.1\n",
      "  Using cached pyasn1_modules-0.2.8-py2.py3-none-any.whl (155 kB)\n",
      "Requirement already satisfied: urllib3 in c:\\users\\ninap\\miniconda3\\lib\\site-packages (from httplib2shim->earthengine-api) (1.25.8)\n",
      "Requirement already satisfied: certifi in c:\\users\\ninap\\miniconda3\\lib\\site-packages (from httplib2shim->earthengine-api) (2020.12.5)\n",
      "Requirement already satisfied: idna<3,>=2.5 in c:\\users\\ninap\\miniconda3\\lib\\site-packages (from requests<3.0.0dev,>=2.18.0->google-cloud-storage->earthengine-api) (2.9)\n",
      "Requirement already satisfied: chardet<4,>=3.0.2 in c:\\users\\ninap\\miniconda3\\lib\\site-packages (from requests<3.0.0dev,>=2.18.0->google-cloud-storage->earthengine-api) (3.0.4)\n",
      "Collecting google-crc32c<2.0dev,>=1.0; python_version >= \"3.5\"\n",
      "  Downloading google_crc32c-1.1.2-cp38-cp38-win_amd64.whl (34 kB)\n",
      "Requirement already satisfied: pytz in c:\\users\\ninap\\miniconda3\\lib\\site-packages (from google-api-core<2dev,>=1.21.0->google-api-python-client>=1.12.1->earthengine-api) (2020.4)\n",
      "Collecting protobuf>=3.12.0\n",
      "  Using cached protobuf-3.14.0-py2.py3-none-any.whl (173 kB)\n",
      "Collecting googleapis-common-protos<2.0dev,>=1.6.0\n",
      "  Using cached googleapis_common_protos-1.52.0-py2.py3-none-any.whl (100 kB)\n",
      "Collecting pyasn1>=0.1.3\n",
      "  Using cached pyasn1-0.4.8-py2.py3-none-any.whl (77 kB)\n",
      "Requirement already satisfied: cffi>=1.0.0 in c:\\users\\ninap\\miniconda3\\lib\\site-packages (from google-crc32c<2.0dev,>=1.0; python_version >= \"3.5\"->google-resumable-media<2.0dev,>=1.2.0->google-cloud-storage->earthengine-api) (1.14.0)\n",
      "Requirement already satisfied: pycparser in c:\\users\\ninap\\miniconda3\\lib\\site-packages (from cffi>=1.0.0->google-crc32c<2.0dev,>=1.0; python_version >= \"3.5\"->google-resumable-media<2.0dev,>=1.2.0->google-cloud-storage->earthengine-api) (2.20)\n",
      "Building wheels for collected packages: earthengine-api, future, httplib2shim\n",
      "  Building wheel for earthengine-api (setup.py): started\n",
      "  Building wheel for earthengine-api (setup.py): finished with status 'done'\n",
      "  Created wheel for earthengine-api: filename=earthengine_api-0.1.248-py3-none-any.whl size=177766 sha256=7c263333e24dfd14dae417079ada50cd6b676740767008bc3f1e4e19f8920996\n",
      "  Stored in directory: c:\\users\\ninap\\appdata\\local\\pip\\cache\\wheels\\f6\\c5\\a5\\86c714d8c0a6be5bc104a10d6a0f0087e187b7c1829c3ad8b9\n",
      "  Building wheel for future (setup.py): started\n",
      "  Building wheel for future (setup.py): finished with status 'done'\n",
      "  Created wheel for future: filename=future-0.18.2-py3-none-any.whl size=491062 sha256=4b9b602ea8a637aba06b2e122dbe79649375a2738e9035ebcc138fdc42eb8c67\n",
      "  Stored in directory: c:\\users\\ninap\\appdata\\local\\pip\\cache\\wheels\\8e\\70\\28\\3d6ccd6e315f65f245da085482a2e1c7d14b90b30f239e2cf4\n",
      "  Building wheel for httplib2shim (setup.py): started\n",
      "  Building wheel for httplib2shim (setup.py): finished with status 'done'\n",
      "  Created wheel for httplib2shim: filename=httplib2shim-0.0.3-py2.py3-none-any.whl size=18064 sha256=b663cf5f688945a431441083c2c564587835f29ff15a0698f034f7400bb854d2\n",
      "  Stored in directory: c:\\users\\ninap\\appdata\\local\\pip\\cache\\wheels\\04\\5d\\b9\\a746c136fae5811cb2d30d8112b0f72ba40e24d22885bbe7c7\n",
      "Successfully built earthengine-api future httplib2shim\n",
      "Installing collected packages: future, google-crc32c, google-resumable-media, pyasn1, rsa, cachetools, pyasn1-modules, google-auth, protobuf, googleapis-common-protos, google-api-core, google-cloud-core, google-cloud-storage, httplib2, google-auth-httplib2, uritemplate, google-api-python-client, httplib2shim, earthengine-api\n",
      "Successfully installed cachetools-4.2.1 earthengine-api-0.1.248 future-0.18.2 google-api-core-1.25.1 google-api-python-client-1.12.8 google-auth-1.24.0 google-auth-httplib2-0.0.4 google-cloud-core-1.5.0 google-cloud-storage-1.35.0 google-crc32c-1.1.2 google-resumable-media-1.2.0 googleapis-common-protos-1.52.0 httplib2-0.18.1 httplib2shim-0.0.3 protobuf-3.14.0 pyasn1-0.4.8 pyasn1-modules-0.2.8 rsa-4.7 uritemplate-3.0.1\n",
      "Note: you may need to restart the kernel to use updated packages.\n"
     ]
    }
   ],
   "source": [
    "pip install earthengine-api"
   ]
  },
  {
   "cell_type": "markdown",
   "metadata": {},
   "source": [
    "## Step 2+3: Run the get_box() function with a latitude and longitude point"
   ]
  },
  {
   "cell_type": "code",
   "execution_count": 48,
   "metadata": {},
   "outputs": [],
   "source": [
    "###### Get Image Bounding Box ######\n",
    "# Source: adapted from https://github.com/Yichabod/natural_disaster_pred/blob/master/cropping_coordinates.py\n",
    "\n",
    "import math\n",
    "\n",
    "# Distances are measured in kilometers.\n",
    "# Longitudes and latitudes are measured in degrees.\n",
    "# Earth is assumed to be perfectly spherical.\n",
    "\n",
    "earth_radius = 6271.0\n",
    "degrees_to_radians = math.pi/180.0\n",
    "radians_to_degrees = 180.0/math.pi\n",
    "\n",
    "def change_in_latitude(kms):\n",
    "    \"Given a distance north, return the change in latitude.\"\n",
    "    return (kms/earth_radius)*radians_to_degrees\n",
    "\n",
    "def change_in_longitude(latitude, kms):\n",
    "    \"Given a latitude and a distance west, return the change in longitude.\"\n",
    "    # Find the radius of a circle around the earth at given latitude.\n",
    "    r = earth_radius*math.cos(latitude*degrees_to_radians)\n",
    "    return (kms/r)*radians_to_degrees\n",
    "\n",
    "def ten_km_square(latitude, longitude):\n",
    "    n = 325 # 3.75\n",
    "    slat, nlat = latitude+change_in_latitude(-1*n), latitude+change_in_latitude(n)\n",
    "    wlon = longitude+change_in_longitude(latitude,-1*n)\n",
    "\n",
    "    elon = longitude+change_in_longitude(latitude, n)\n",
    "    return(nlat, wlon, slat, elon)\n",
    "\n",
    "def get_box(lon, lat):\n",
    "    '''First argument degrees longitude (E is positive, W negative)\n",
    "        of the landslide location,\n",
    "        second argument latitude (N positive, S negative),\n",
    "        in decimal format(not minutes etc.)'''\n",
    "    nlat, wlon, slat, elon = ten_km_square(lat,lon)\n",
    "    print(\"region = '[[{:.4f},{:.4f}], [{:.4f},{:.4f}], [{:.4f},{:.4f}], [{:.4f},{:.4f}]]'\".format(wlon,nlat,elon,nlat,wlon,slat,elon,slat))\n",
    "    print(\"rectangle = [{:.4f},{:.4f},{:.4f},{:.4f}]\".format(wlon,slat,elon,nlat))"
   ]
  },
  {
   "cell_type": "code",
   "execution_count": 52,
   "metadata": {},
   "outputs": [
    {
     "name": "stdout",
     "output_type": "stream",
     "text": [
      "var region = '[[48.5379,2.8416], [54.4768,2.8416], [48.5379,-3.0972], [54.4768,-3.0972]]';\n",
      "var rectangle = [48.5379,-3.0972,54.4768,2.8416];\n"
     ]
    }
   ],
   "source": [
    "# london = (51.5073509,-0.1277583)\n",
    "# menlo park = (-122.2036486, 37.4237011)\n",
    "lat, long = 51.5073509, -0.1277583\n",
    "get_box(lat, long)"
   ]
  },
  {
   "cell_type": "markdown",
   "metadata": {},
   "source": [
    "## Step 4: Copy paste the region and rectange variables here and run cell\n",
    "Then click the URLs to download the images OR save to drive."
   ]
  },
  {
   "cell_type": "code",
   "execution_count": 61,
   "metadata": {
    "scrolled": false
   },
   "outputs": [
    {
     "data": {
      "text/html": [
       "<p>To authorize access needed by Earth Engine, open the following\n",
       "        URL in a web browser and follow the instructions:</p>\n",
       "        <p><a href=https://accounts.google.com/o/oauth2/auth?client_id=517222506229-vsmmajv00ul0bs7p89v5m89qs8eb9359.apps.googleusercontent.com&scope=https%3A%2F%2Fwww.googleapis.com%2Fauth%2Fearthengine+https%3A%2F%2Fwww.googleapis.com%2Fauth%2Fdevstorage.full_control&redirect_uri=urn%3Aietf%3Awg%3Aoauth%3A2.0%3Aoob&response_type=code&code_challenge=oIaYf_VTOQW7A47V3mfjmCeWynBeXkwJyJ40MSVuyBg&code_challenge_method=S256>https://accounts.google.com/o/oauth2/auth?client_id=517222506229-vsmmajv00ul0bs7p89v5m89qs8eb9359.apps.googleusercontent.com&scope=https%3A%2F%2Fwww.googleapis.com%2Fauth%2Fearthengine+https%3A%2F%2Fwww.googleapis.com%2Fauth%2Fdevstorage.full_control&redirect_uri=urn%3Aietf%3Awg%3Aoauth%3A2.0%3Aoob&response_type=code&code_challenge=oIaYf_VTOQW7A47V3mfjmCeWynBeXkwJyJ40MSVuyBg&code_challenge_method=S256</a></p>\n",
       "        <p>The authorization workflow will generate a code, which you\n",
       "        should paste in the box below</p>\n",
       "        "
      ],
      "text/plain": [
       "<IPython.core.display.HTML object>"
      ]
     },
     "metadata": {},
     "output_type": "display_data"
    },
    {
     "name": "stdout",
     "output_type": "stream",
     "text": [
      "Enter verification code: 4/1AY0e-g5zQ-S7z3BNgbSvLUmcIG330GXAqYdgEXoZgZQLhkq283Txv2cR3Xw\n",
      "\n",
      "Successfully saved authorization token.\n",
      "num_images =  21\n",
      "Data found\n",
      "https://earthengine.googleapis.com/v1alpha/projects/earthengine-legacy/thumbnails/4007dcbe784c18e1511d928c3a2b7856-81400cd48163d22baf0b0d07c7da1f05:getPixels\n"
     ]
    }
   ],
   "source": [
    "import ee\n",
    "\n",
    "ee.Initialize()\n",
    "ee.Authenticate()\n",
    "\n",
    "startDate = '2020-01-01'\n",
    "endDate = '2020-12-01'\n",
    "\n",
    "# London (n=325)\n",
    "region = '[[48.5379,2.8416], [54.4768,2.8416], [48.5379,-3.0972], [54.4768,-3.0972]]'\n",
    "rectangle = [48.5379,-3.0972,54.4768,2.8416]\n",
    "\n",
    "# boston (n=325)\n",
    "# region = '[[32.9542,-68.0490], [51.2126,-68.0490], [32.9542,-73.9878], [51.2126,-73.9878]]'\n",
    "# rectangle = [32.9542,-73.9878,51.2126,-68.0490]\n",
    "\n",
    "bands = [\"B2\",\"B3\",\"B4\"]\n",
    "\n",
    "rectangle1 = ee.Geometry.Rectangle(rectangle)\n",
    "\n",
    "dataset = ee.ImageCollection(\"LANDSAT/LC08/C01/T2\")\n",
    "dataset = dataset.filterBounds(rectangle1) # Filter region\n",
    "dataset = dataset.filterDate(startDate, endDate).sort('system:time_start', True) # filter date\n",
    "dataset = dataset.select(bands) # select RGB channels\n",
    "\n",
    "count = dataset.size().getInfo()\n",
    "print('num_images = ', count)\n",
    "data = dataset.toList(count)\n",
    "\n",
    "if (count == 0):\n",
    "    print('No data found.')\n",
    "\n",
    "else:\n",
    "    print('Data found')\n",
    "    dataset_avg = dataset.mean() # get the average over all images in the grid cell\n",
    "    image = ee.Image(dataset_avg) # convert to an Image\n",
    "    \n",
    "    # Option 1: Get clickable download link\n",
    "    print(image.getDownloadURL({'region': region})) # get link to download\n",
    "    \n",
    "    # Option 2: Save to Drive\n",
    "    # task=ee.batch.Export.image.toDrive(image=image, folder=\"Carbon_emissions_foo\", \n",
    "    #                  description='LANDSTAT_{}_{}_{}'.format(lat, long, i), \n",
    "    #                  region=region,fileFormat='TFRecord')\n",
    "    # task.start()\n",
    "    \n",
    "    '''\n",
    "    # To get each image in the collection individually\n",
    "    for i in range(count):\n",
    "        image = ee.Image(data.get(i))\n",
    "        image = image.select(bands)\n",
    "        print('image number ', i)\n",
    "        # Option 1: Get clickable download link\n",
    "        print(image.getDownloadURL({'region': region})) # ,'scale': 10}))\n",
    "        \n",
    "        # Option 2: Save to Drive\n",
    "        # task=ee.batch.Export.image.toDrive(image=image, folder=\"Carbon_emissions_foo\", \n",
    "        #                 description='LANDSTAT_{}_{}_{}'.format(lat, long, i), \n",
    "        #                 region=region,fileFormat='TFRecord')\n",
    "        # task.start()\n",
    "    '''"
   ]
  }
 ],
 "metadata": {
  "kernelspec": {
   "display_name": "Python 3",
   "language": "python",
   "name": "python3"
  },
  "language_info": {
   "codemirror_mode": {
    "name": "ipython",
    "version": 3
   },
   "file_extension": ".py",
   "mimetype": "text/x-python",
   "name": "python",
   "nbconvert_exporter": "python",
   "pygments_lexer": "ipython3",
   "version": "3.8.3"
  }
 },
 "nbformat": 4,
 "nbformat_minor": 4
}
